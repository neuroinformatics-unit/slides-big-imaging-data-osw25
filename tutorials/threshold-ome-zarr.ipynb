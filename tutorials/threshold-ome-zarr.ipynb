{
 "cells": [
  {
   "cell_type": "code",
   "execution_count": null,
   "id": "70cb6fbc",
   "metadata": {},
   "outputs": [],
   "source": [
    "from ome_zarr_models.v04 import Image\n",
    "from ome_zarr_models import open_ome_zarr\n",
    "from pathlib import Path\n",
    "import zarr\n",
    "\n",
    "path = Path(\"/media/alessandro/T7/tibiae/pyramidal_chunked_tibia_1\")\n",
    "assert path.exists()\n",
    "zarr_group = zarr.open(path, mode=\"r+\")\n",
    "ome_zarr_group = open_ome_zarr(zarr_group)\n",
    "print(f\"Type of the dataset: {type(ome_zarr_group)}\")\n",
    "print(f\"OME-Zarr version: {ome_zarr_group.ome_zarr_version}\")"
   ]
  },
  {
   "cell_type": "code",
   "execution_count": null,
   "id": "def4a359",
   "metadata": {},
   "outputs": [],
   "source": [
    "ome_zarr_image = Image.from_zarr(zarr_group)\n",
    "\n",
    "print(ome_zarr_image.attributes)\n",
    "metadata = ome_zarr_image.attributes\n",
    "from rich.pretty import pprint\n",
    "pprint(metadata)\n",
    "pprint(metadata.multiscales[0].datasets)\n",
    "\n",
    "zarr_array = zarr_group[metadata.multiscales[0].datasets[0].path]\n",
    "pprint(zarr_array)\n",
    "\n"
   ]
  },
  {
   "cell_type": "markdown",
   "id": "bd715419",
   "metadata": {},
   "source": [
    "iterate chunk-wise\n"
   ]
  },
  {
   "cell_type": "code",
   "execution_count": null,
   "id": "47209a47",
   "metadata": {
    "vscode": {
     "languageId": "shellscript"
    }
   },
   "outputs": [],
   "source": [
    "zarr_arr = zarr_group[metadata.multiscales[0].datasets[0].path]\n",
    "chunk_shape = zarr_arr.chunks\n",
    "shape = zarr_arr.shape\n",
    "\n",
    "colour=1\n",
    "for i in range(0, shape[0], chunk_shape[0]):\n",
    "    for j in range(0, shape[1], chunk_shape[1]):\n",
    "        for k in range(0, shape[2], chunk_shape[2]):\n",
    "            chunk_idx = (\n",
    "                i // chunk_shape[0] * (shape[1] // chunk_shape[1]) * (shape[2] // chunk_shape[2]) +\n",
    "                j // chunk_shape[1] * (shape[2] // chunk_shape[2]) +\n",
    "                k // chunk_shape[2]\n",
    "            )\n",
    "            if True or chunk_idx % 2 == 1:\n",
    "                chunk = zarr_arr[\n",
    "                    i:i+chunk_shape[0],\n",
    "                    j:j+chunk_shape[1],\n",
    "                    k:k+chunk_shape[2]\n",
    "                ]\n",
    "                chunk = (chunk > 50) * colour\n",
    "                zarr_arr[\n",
    "                    i:i+chunk_shape[0],\n",
    "                    j:j+chunk_shape[1],\n",
    "                    k:k+chunk_shape[2]    \n",
    "                ] = chunk\n",
    "                colour = (colour+1)%256\n",
    "                if colour == 0:\n",
    "                    colour = colour+1\n",
    "                print(f\"Thresholded chunk at ({i}, {j}, {k})\")\n",
    "                print(f\"colour: {colour}\")\n",
    "\n",
    "for d in [0,1,2]:\n",
    "    level_d_array = zarr_group[ome_zarr_image.attributes.multiscales[0].datasets[d].path]\n",
    "    level_d_array[:] = zarr_arr[::2**d, ::2**d, ::2**d]"
   ]
  },
  {
   "cell_type": "code",
   "execution_count": null,
   "id": "0b721d2c",
   "metadata": {},
   "outputs": [],
   "source": [
    "import napari\n",
    "\n",
    "viewer = napari.Viewer()\n",
    "viewer.open(path, plugin=\"napari-ome-zarr\")\n",
    "napari.run()"
   ]
  },
  {
   "cell_type": "markdown",
   "id": "69cc9f6c",
   "metadata": {},
   "source": [
    "Right-click on the layer, and hit convert to Labels."
   ]
  },
  {
   "cell_type": "code",
   "execution_count": null,
   "id": "20a562b7",
   "metadata": {},
   "outputs": [],
   "source": []
  }
 ],
 "metadata": {
  "kernelspec": {
   "display_name": "big-imaging-data-tutorial",
   "language": "python",
   "name": "python3"
  },
  "language_info": {
   "codemirror_mode": {
    "name": "ipython",
    "version": 3
   },
   "file_extension": ".py",
   "mimetype": "text/x-python",
   "name": "python",
   "nbconvert_exporter": "python",
   "pygments_lexer": "ipython3",
   "version": "3.13.5"
  }
 },
 "nbformat": 4,
 "nbformat_minor": 5
}
