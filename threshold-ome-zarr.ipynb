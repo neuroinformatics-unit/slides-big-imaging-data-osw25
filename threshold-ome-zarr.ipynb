{
 "cells": [
  {
   "cell_type": "code",
   "execution_count": 1,
   "id": "70cb6fbc",
   "metadata": {},
   "outputs": [
    {
     "name": "stdout",
     "output_type": "stream",
     "text": [
      "Type of the dataset: <class 'zarr.hierarchy.Group'>\n"
     ]
    }
   ],
   "source": [
    "from ome_zarr_models.v04 import Image\n",
    "from pathlib import Path\n",
    "import zarr\n",
    "\n",
    "path = Path(\"/media/alessandro/T7/tibiae/pyramidal_chunked_tibia\")\n",
    "assert path.exists()\n",
    "dataset = zarr.open_group(path, mode = 'r')\n",
    "print(f\"Type of the dataset: {type(dataset)}\")"
   ]
  },
  {
   "cell_type": "code",
   "execution_count": 2,
   "id": "def4a359",
   "metadata": {},
   "outputs": [],
   "source": [
    "ome_zarr_image = Image.from_zarr(dataset)"
   ]
  },
  {
   "cell_type": "code",
   "execution_count": 3,
   "id": "47209a47",
   "metadata": {},
   "outputs": [
    {
     "data": {
      "text/plain": [
       "Image(zarr_version=2, attributes=ImageAttrs(multiscales=[Multiscale(axes=[Axis(name='x', type='space', unit='um'), Axis(name='y', type='space', unit='um'), Axis(name='z', type='space', unit='um')], datasets=(Dataset(path='level0', coordinateTransformations=(VectorScale(type='scale', scale=[1.0, 1.0, 1.0]), VectorTranslation(type='translation', translation=[0.0, 0.0, 0.0]))), Dataset(path='level1', coordinateTransformations=(VectorScale(type='scale', scale=[2.0, 2.0, 2.0]), VectorTranslation(type='translation', translation=[0.0, 0.0, 0.0]))), Dataset(path='level2', coordinateTransformations=(VectorScale(type='scale', scale=[4.0, 4.0, 4.0]), VectorTranslation(type='translation', translation=[0.0, 0.0, 0.0])))), coordinateTransformations=(VectorScale(type='scale', scale=[10.0, 10.0, 10.0]),), metadata=None, name='mouse tibia', type=None, version='0.4')], omero=None), members={'level0': ArraySpec(zarr_version=2, attributes={}, shape=(1672, 349, 414), chunks=(100, 100, 100), dtype='|u1', fill_value=0, order='C', filters=None, dimension_separator='/', compressor={'id': 'zstd', 'level': 5, 'checksum': False}), 'level1': ArraySpec(zarr_version=2, attributes={}, shape=(836, 175, 207), chunks=(100, 100, 100), dtype='|u1', fill_value=0, order='C', filters=None, dimension_separator='/', compressor={'id': 'zstd', 'level': 5, 'checksum': False}), 'level2': ArraySpec(zarr_version=2, attributes={}, shape=(418, 88, 104), chunks=(100, 100, 100), dtype='|u1', fill_value=0, order='C', filters=None, dimension_separator='/', compressor={'id': 'zstd', 'level': 5, 'checksum': False})})"
      ]
     },
     "execution_count": 3,
     "metadata": {},
     "output_type": "execute_result"
    }
   ],
   "source": [
    "ome_zarr_image"
   ]
  },
  {
   "cell_type": "code",
   "execution_count": null,
   "id": "0b721d2c",
   "metadata": {},
   "outputs": [
    {
     "name": "stderr",
     "output_type": "stream",
     "text": [
      "Failed to parse metadata\n",
      "Traceback (most recent call last):\n",
      "  File \"/home/alessandro/mambaforge/envs/big-imaging-data-tutorial/lib/python3.13/site-packages/ome_zarr/reader.py\", line 340, in __init__\n",
      "    rdefs = self.image_data.get(\"rdefs\", {})\n",
      "            ^^^^^^^^^^^^^^^^^^^\n",
      "AttributeError: 'NoneType' object has no attribute 'get'\n"
     ]
    }
   ],
   "source": [
    "# import napari\n",
    "\n",
    "# viewer = napari.Viewer()\n",
    "# viewer.open(path, plugin=\"napari-ome-zarr\")\n",
    "# napari.run()"
   ]
  },
  {
   "cell_type": "code",
   "execution_count": null,
   "id": "20a562b7",
   "metadata": {},
   "outputs": [],
   "source": []
  }
 ],
 "metadata": {
  "kernelspec": {
   "display_name": "big-imaging-data-tutorial",
   "language": "python",
   "name": "python3"
  },
  "language_info": {
   "codemirror_mode": {
    "name": "ipython",
    "version": 3
   },
   "file_extension": ".py",
   "mimetype": "text/x-python",
   "name": "python",
   "nbconvert_exporter": "python",
   "pygments_lexer": "ipython3",
   "version": "3.13.5"
  }
 },
 "nbformat": 4,
 "nbformat_minor": 5
}
