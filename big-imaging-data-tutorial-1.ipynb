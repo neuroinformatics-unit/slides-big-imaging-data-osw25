{
 "cells": [
  {
   "cell_type": "markdown",
   "id": "e1658d6a",
   "metadata": {},
   "source": [
    "## Preface\n",
    "\n",
    "You are encouraged to play with the code, run it on your own data, and exchange knowledge with other participants."
   ]
  },
  {
   "cell_type": "markdown",
   "id": "89732e8b",
   "metadata": {
    "vscode": {
     "languageId": "plaintext"
    }
   },
   "source": [
    "## Converting your data to OME-zarr\n",
    "\n",
    "If you don't have your own data, you can use the `tibia.tiff` provided. The data is far from perfect, and relatively small (~250 MB) - to make this tutorial run fast. The data is of a CT scan of a mouse shin bone (\"tibia\"), and is courtesy of Mark Hopkinson (Royal Veterinary College)."
   ]
  },
  {
   "cell_type": "code",
   "execution_count": 1,
   "id": "3dec7cc9",
   "metadata": {},
   "outputs": [],
   "source": [
    "import bioio\n",
    "from pathlib import Path"
   ]
  },
  {
   "cell_type": "code",
   "execution_count": 2,
   "id": "77fd4926",
   "metadata": {},
   "outputs": [
    {
     "data": {
      "text/plain": [
       "{'bioio-tifffile': PluginSupport(supported=True, error=None),\n",
       " 'bioio-sldy': PluginSupport(supported=False, error='Unable to find any images within the image directory'),\n",
       " 'ArrayLike': PluginSupport(supported=False, error=\"ArrayLikeReader does not support the image: 'Unsupported image type: <class 'fsspec.implementations.local.LocalFileSystem'>. ArrayLikeReader supported types are numpy ndarray, dask Array,or xarray DataArray.'.\")}"
      ]
     },
     "execution_count": 2,
     "metadata": {},
     "output_type": "execute_result"
    }
   ],
   "source": [
    "# replace this with your own data\n",
    "sample_data_path = Path(\"/media/alessandro/T7/tibiae/acc52_10um.tif\")\n",
    "assert sample_data_path.exists()\n",
    "sample_data = bioio.BioImage(sample_data_path)\n",
    "bioio.plugin_feasibility_report(sample_data_path)"
   ]
  },
  {
   "cell_type": "code",
   "execution_count": 3,
   "id": "c0aba326",
   "metadata": {},
   "outputs": [
    {
     "name": "stdout",
     "output_type": "stream",
     "text": [
      "ImageJ=1.54f\n",
      "images=1672\n",
      "slices=1672\n",
      "unit=pixel\n",
      "spacing=1.999401913875598\n",
      "loop=false\n",
      "<Dimensions [T: 1, C: 1, Z: 1672, Y: 349, X: 414]>\n",
      "TCZYX\n",
      "['Channel:0:0']\n"
     ]
    }
   ],
   "source": [
    "print(sample_data.metadata)\n",
    "print(sample_data.dims)\n",
    "print(sample_data.dims.order)\n",
    "print(sample_data.channel_names)"
   ]
  },
  {
   "cell_type": "code",
   "execution_count": 4,
   "id": "c0ceeecb",
   "metadata": {},
   "outputs": [
    {
     "name": "stdout",
     "output_type": "stream",
     "text": [
      "(1, 1, 1672, 349, 414)\n",
      "((1,), (1,), (1672,), (349,), (414,))\n"
     ]
    }
   ],
   "source": [
    "sample_data_dask_array = sample_data.dask_data\n",
    "print(sample_data_dask_array.shape)\n",
    "print(sample_data_dask_array.chunks)"
   ]
  },
  {
   "cell_type": "markdown",
   "id": "2674e00d",
   "metadata": {},
   "source": [
    "It may be helpful to have a system monitor (check particularly the RAM usage!) open!"
   ]
  },
  {
   "cell_type": "code",
   "execution_count": 5,
   "id": "ded4b548",
   "metadata": {},
   "outputs": [],
   "source": [
    "sample_dask_array_rechunked = sample_data_dask_array.rechunk(chunks=(1,1,32,32,32))"
   ]
  },
  {
   "cell_type": "markdown",
   "id": "a00d3e8f",
   "metadata": {},
   "source": [
    "not a lot of information here. Let convert to OME zarr to explore"
   ]
  },
  {
   "cell_type": "markdown",
   "id": "0edda83a",
   "metadata": {},
   "source": [
    "reference in particular chapter 2 of textbook here"
   ]
  },
  {
   "cell_type": "code",
   "execution_count": null,
   "id": "eefa393c",
   "metadata": {},
   "outputs": [
    {
     "ename": "ValidationError",
     "evalue": "1 validation error for ArraySpec\n  Value error, ('Length of shape must match length of chunks. Got 5 elements', 'for shape and 3 elements for chunks.') [type=value_error, input_value={'shape': (1, 1, 1672, 34...pressor': Zstd(level=5)}, input_type=dict]\n    For further information visit https://errors.pydantic.dev/2.11/v/value_error",
     "output_type": "error",
     "traceback": [
      "\u001b[31m---------------------------------------------------------------------------\u001b[39m",
      "\u001b[31mValidationError\u001b[39m                           Traceback (most recent call last)",
      "\u001b[36mCell\u001b[39m\u001b[36m \u001b[39m\u001b[32mIn[13]\u001b[39m\u001b[32m, line 4\u001b[39m\n\u001b[32m      1\u001b[39m \u001b[38;5;28;01mfrom\u001b[39;00m\u001b[38;5;250m \u001b[39m\u001b[34;01mpydantic_zarr\u001b[39;00m\u001b[34;01m.\u001b[39;00m\u001b[34;01mv2\u001b[39;00m\u001b[38;5;250m \u001b[39m\u001b[38;5;28;01mimport\u001b[39;00m ArraySpec\n\u001b[32m      2\u001b[39m \u001b[38;5;28;01mfrom\u001b[39;00m\u001b[38;5;250m \u001b[39m\u001b[34;01mnumcodecs\u001b[39;00m\u001b[38;5;250m \u001b[39m\u001b[38;5;28;01mimport\u001b[39;00m Zstd\n\u001b[32m----> \u001b[39m\u001b[32m4\u001b[39m array_spec = \u001b[43mArraySpec\u001b[49m\u001b[43m(\u001b[49m\n\u001b[32m      5\u001b[39m \u001b[43m    \u001b[49m\u001b[43mshape\u001b[49m\u001b[43m=\u001b[49m\u001b[43msample_data_dask_array\u001b[49m\u001b[43m.\u001b[49m\u001b[43mshape\u001b[49m\u001b[43m,\u001b[49m\n\u001b[32m      6\u001b[39m \u001b[43m    \u001b[49m\u001b[43mdtype\u001b[49m\u001b[43m=\u001b[49m\u001b[43msample_data_dask_array\u001b[49m\u001b[43m.\u001b[49m\u001b[43mdtype\u001b[49m\u001b[43m,\u001b[49m\n\u001b[32m      7\u001b[39m \u001b[43m    \u001b[49m\u001b[43mchunks\u001b[49m\u001b[43m=\u001b[49m\u001b[43m(\u001b[49m\u001b[32;43m32\u001b[39;49m\u001b[43m,\u001b[49m\u001b[43m \u001b[49m\u001b[32;43m32\u001b[39;49m\u001b[43m,\u001b[49m\u001b[43m \u001b[49m\u001b[32;43m32\u001b[39;49m\u001b[43m)\u001b[49m\u001b[43m,\u001b[49m\n\u001b[32m      8\u001b[39m \u001b[43m    \u001b[49m\u001b[43mcompressor\u001b[49m\u001b[43m=\u001b[49m\u001b[43mZstd\u001b[49m\u001b[43m(\u001b[49m\u001b[43mlevel\u001b[49m\u001b[43m=\u001b[49m\u001b[32;43m5\u001b[39;49m\u001b[43m)\u001b[49m\u001b[43m,\u001b[49m\n\u001b[32m      9\u001b[39m \u001b[43m)\u001b[49m\n\u001b[32m     10\u001b[39m \u001b[38;5;28mprint\u001b[39m(array_spec)\n",
      "\u001b[36mFile \u001b[39m\u001b[32m~/mambaforge/envs/big-imaging-data/lib/python3.12/site-packages/pydantic/main.py:253\u001b[39m, in \u001b[36mBaseModel.__init__\u001b[39m\u001b[34m(self, **data)\u001b[39m\n\u001b[32m    251\u001b[39m \u001b[38;5;66;03m# `__tracebackhide__` tells pytest and some other tools to omit this function from tracebacks\u001b[39;00m\n\u001b[32m    252\u001b[39m __tracebackhide__ = \u001b[38;5;28;01mTrue\u001b[39;00m\n\u001b[32m--> \u001b[39m\u001b[32m253\u001b[39m validated_self = \u001b[38;5;28;43mself\u001b[39;49m\u001b[43m.\u001b[49m\u001b[43m__pydantic_validator__\u001b[49m\u001b[43m.\u001b[49m\u001b[43mvalidate_python\u001b[49m\u001b[43m(\u001b[49m\u001b[43mdata\u001b[49m\u001b[43m,\u001b[49m\u001b[43m \u001b[49m\u001b[43mself_instance\u001b[49m\u001b[43m=\u001b[49m\u001b[38;5;28;43mself\u001b[39;49m\u001b[43m)\u001b[49m\n\u001b[32m    254\u001b[39m \u001b[38;5;28;01mif\u001b[39;00m \u001b[38;5;28mself\u001b[39m \u001b[38;5;129;01mis\u001b[39;00m \u001b[38;5;129;01mnot\u001b[39;00m validated_self:\n\u001b[32m    255\u001b[39m     warnings.warn(\n\u001b[32m    256\u001b[39m         \u001b[33m'\u001b[39m\u001b[33mA custom validator is returning a value other than `self`.\u001b[39m\u001b[38;5;130;01m\\n\u001b[39;00m\u001b[33m'\u001b[39m\n\u001b[32m    257\u001b[39m         \u001b[33m\"\u001b[39m\u001b[33mReturning anything other than `self` from a top level model validator isn\u001b[39m\u001b[33m'\u001b[39m\u001b[33mt supported when validating via `__init__`.\u001b[39m\u001b[38;5;130;01m\\n\u001b[39;00m\u001b[33m\"\u001b[39m\n\u001b[32m    258\u001b[39m         \u001b[33m'\u001b[39m\u001b[33mSee the `model_validator` docs (https://docs.pydantic.dev/latest/concepts/validators/#model-validators) for more details.\u001b[39m\u001b[33m'\u001b[39m,\n\u001b[32m    259\u001b[39m         stacklevel=\u001b[32m2\u001b[39m,\n\u001b[32m    260\u001b[39m     )\n",
      "\u001b[31mValidationError\u001b[39m: 1 validation error for ArraySpec\n  Value error, ('Length of shape must match length of chunks. Got 5 elements', 'for shape and 3 elements for chunks.') [type=value_error, input_value={'shape': (1, 1, 1672, 34...pressor': Zstd(level=5)}, input_type=dict]\n    For further information visit https://errors.pydantic.dev/2.11/v/value_error"
     ]
    }
   ],
   "source": [
    "from pydantic_zarr.v2 import ArraySpec\n",
    "from numcodecs import Zstd\n",
    "\n",
    "array_spec = ArraySpec(\n",
    "    shape=sample_data_dask_array[0,0].shape,\n",
    "    dtype=sample_data_dask_array.dtype,\n",
    "    chunks=(32, 32, 32),\n",
    "    compressor=Zstd(level=5),\n",
    ")\n",
    "print(array_spec)"
   ]
  },
  {
   "cell_type": "code",
   "execution_count": null,
   "id": "a02068bd",
   "metadata": {},
   "outputs": [],
   "source": []
  },
  {
   "cell_type": "code",
   "execution_count": 7,
   "id": "e45b7cee",
   "metadata": {},
   "outputs": [],
   "source": [
    "from pathlib import Path\n",
    "import tempfile\n",
    "import zarr\n",
    "from dask.array import core as dask_core\n",
    "\n",
    "store = zarr.MemoryStore()\n",
    "zarr_array = array_spec.to_zarr(store=store, path=\"/\")\n",
    "\n",
    "# arrays don't fit in memory so copy and transfer chunk by chunk\n",
    "zarr_array[:] = sample_data.data[:]"
   ]
  },
  {
   "cell_type": "code",
   "execution_count": 12,
   "id": "eb6d68a2",
   "metadata": {},
   "outputs": [
    {
     "name": "stdout",
     "output_type": "stream",
     "text": [
      "Created temporary directory at /tmp/tmpmmf3odut\n",
      "Directory contents before saving: []\n",
      "Directory contents after creating array: ['.zarray', '.zattrs']\n"
     ]
    },
    {
     "ename": "ValueError",
     "evalue": "parameter 'value': expected array with shape (1, 1, 1672, 349, 414), got (1672, 349, 414)",
     "output_type": "error",
     "traceback": [
      "\u001b[31m---------------------------------------------------------------------------\u001b[39m",
      "\u001b[31mValueError\u001b[39m                                Traceback (most recent call last)",
      "\u001b[36mCell\u001b[39m\u001b[36m \u001b[39m\u001b[32mIn[12]\u001b[39m\u001b[32m, line 17\u001b[39m\n\u001b[32m     15\u001b[39m rechunked = sample_data.dask_data.rechunk(chunks=(\u001b[32m1\u001b[39m,\u001b[32m1\u001b[39m,\u001b[32m32\u001b[39m,\u001b[32m32\u001b[39m,\u001b[32m32\u001b[39m))\n\u001b[32m     16\u001b[39m rechunked = rechunked.squeeze()\n\u001b[32m---> \u001b[39m\u001b[32m17\u001b[39m \u001b[43mzarr_array\u001b[49m\u001b[43m[\u001b[49m\u001b[43m:\u001b[49m\u001b[43m]\u001b[49m = rechunked.compute()\n\u001b[32m     18\u001b[39m \u001b[38;5;28mprint\u001b[39m(\u001b[33mf\u001b[39m\u001b[33m\"\u001b[39m\u001b[33mDirectory contents after adding data: \u001b[39m\u001b[38;5;132;01m{\u001b[39;00mos.listdir(temp_path)\u001b[38;5;132;01m}\u001b[39;00m\u001b[33m\"\u001b[39m)\n\u001b[32m     19\u001b[39m zarr_array\n",
      "\u001b[36mFile \u001b[39m\u001b[32m~/mambaforge/envs/big-imaging-data/lib/python3.12/site-packages/zarr/core.py:1451\u001b[39m, in \u001b[36mArray.__setitem__\u001b[39m\u001b[34m(self, selection, value)\u001b[39m\n\u001b[32m   1449\u001b[39m     \u001b[38;5;28mself\u001b[39m.set_orthogonal_selection(pure_selection, value, fields=fields)\n\u001b[32m   1450\u001b[39m \u001b[38;5;28;01melse\u001b[39;00m:\n\u001b[32m-> \u001b[39m\u001b[32m1451\u001b[39m     \u001b[38;5;28;43mself\u001b[39;49m\u001b[43m.\u001b[49m\u001b[43mset_basic_selection\u001b[49m\u001b[43m(\u001b[49m\u001b[43mpure_selection\u001b[49m\u001b[43m,\u001b[49m\u001b[43m \u001b[49m\u001b[43mvalue\u001b[49m\u001b[43m,\u001b[49m\u001b[43m \u001b[49m\u001b[43mfields\u001b[49m\u001b[43m=\u001b[49m\u001b[43mfields\u001b[49m\u001b[43m)\u001b[49m\n",
      "\u001b[36mFile \u001b[39m\u001b[32m~/mambaforge/envs/big-imaging-data/lib/python3.12/site-packages/zarr/core.py:1547\u001b[39m, in \u001b[36mArray.set_basic_selection\u001b[39m\u001b[34m(self, selection, value, fields)\u001b[39m\n\u001b[32m   1545\u001b[39m     \u001b[38;5;28;01mreturn\u001b[39;00m \u001b[38;5;28mself\u001b[39m._set_basic_selection_zd(selection, value, fields=fields)\n\u001b[32m   1546\u001b[39m \u001b[38;5;28;01melse\u001b[39;00m:\n\u001b[32m-> \u001b[39m\u001b[32m1547\u001b[39m     \u001b[38;5;28;01mreturn\u001b[39;00m \u001b[38;5;28;43mself\u001b[39;49m\u001b[43m.\u001b[49m\u001b[43m_set_basic_selection_nd\u001b[49m\u001b[43m(\u001b[49m\u001b[43mselection\u001b[49m\u001b[43m,\u001b[49m\u001b[43m \u001b[49m\u001b[43mvalue\u001b[49m\u001b[43m,\u001b[49m\u001b[43m \u001b[49m\u001b[43mfields\u001b[49m\u001b[43m=\u001b[49m\u001b[43mfields\u001b[49m\u001b[43m)\u001b[49m\n",
      "\u001b[36mFile \u001b[39m\u001b[32m~/mambaforge/envs/big-imaging-data/lib/python3.12/site-packages/zarr/core.py:1937\u001b[39m, in \u001b[36mArray._set_basic_selection_nd\u001b[39m\u001b[34m(self, selection, value, fields)\u001b[39m\n\u001b[32m   1931\u001b[39m \u001b[38;5;28;01mdef\u001b[39;00m\u001b[38;5;250m \u001b[39m\u001b[34m_set_basic_selection_nd\u001b[39m(\u001b[38;5;28mself\u001b[39m, selection, value, fields=\u001b[38;5;28;01mNone\u001b[39;00m):\n\u001b[32m   1932\u001b[39m     \u001b[38;5;66;03m# implementation of __setitem__ for array with at least one dimension\u001b[39;00m\n\u001b[32m   1933\u001b[39m \n\u001b[32m   1934\u001b[39m     \u001b[38;5;66;03m# setup indexer\u001b[39;00m\n\u001b[32m   1935\u001b[39m     indexer = BasicIndexer(selection, \u001b[38;5;28mself\u001b[39m)\n\u001b[32m-> \u001b[39m\u001b[32m1937\u001b[39m     \u001b[38;5;28;43mself\u001b[39;49m\u001b[43m.\u001b[49m\u001b[43m_set_selection\u001b[49m\u001b[43m(\u001b[49m\u001b[43mindexer\u001b[49m\u001b[43m,\u001b[49m\u001b[43m \u001b[49m\u001b[43mvalue\u001b[49m\u001b[43m,\u001b[49m\u001b[43m \u001b[49m\u001b[43mfields\u001b[49m\u001b[43m=\u001b[49m\u001b[43mfields\u001b[49m\u001b[43m)\u001b[49m\n",
      "\u001b[36mFile \u001b[39m\u001b[32m~/mambaforge/envs/big-imaging-data/lib/python3.12/site-packages/zarr/core.py:1964\u001b[39m, in \u001b[36mArray._set_selection\u001b[39m\u001b[34m(self, indexer, value, fields)\u001b[39m\n\u001b[32m   1962\u001b[39m     \u001b[38;5;28;01mif\u001b[39;00m \u001b[38;5;129;01mnot\u001b[39;00m \u001b[38;5;28mhasattr\u001b[39m(value, \u001b[33m\"\u001b[39m\u001b[33mshape\u001b[39m\u001b[33m\"\u001b[39m):\n\u001b[32m   1963\u001b[39m         value = np.asanyarray(value, like=\u001b[38;5;28mself\u001b[39m._meta_array)\n\u001b[32m-> \u001b[39m\u001b[32m1964\u001b[39m     \u001b[43mcheck_array_shape\u001b[49m\u001b[43m(\u001b[49m\u001b[33;43m\"\u001b[39;49m\u001b[33;43mvalue\u001b[39;49m\u001b[33;43m\"\u001b[39;49m\u001b[43m,\u001b[49m\u001b[43m \u001b[49m\u001b[43mvalue\u001b[49m\u001b[43m,\u001b[49m\u001b[43m \u001b[49m\u001b[43msel_shape\u001b[49m\u001b[43m)\u001b[49m\n\u001b[32m   1966\u001b[39m \u001b[38;5;66;03m# iterate over chunks in range\u001b[39;00m\n\u001b[32m   1967\u001b[39m \u001b[38;5;28;01mif\u001b[39;00m (\n\u001b[32m   1968\u001b[39m     \u001b[38;5;129;01mnot\u001b[39;00m \u001b[38;5;28mhasattr\u001b[39m(\u001b[38;5;28mself\u001b[39m.chunk_store, \u001b[33m\"\u001b[39m\u001b[33msetitems\u001b[39m\u001b[33m\"\u001b[39m)\n\u001b[32m   1969\u001b[39m     \u001b[38;5;129;01mor\u001b[39;00m \u001b[38;5;28mself\u001b[39m._synchronizer \u001b[38;5;129;01mis\u001b[39;00m \u001b[38;5;129;01mnot\u001b[39;00m \u001b[38;5;28;01mNone\u001b[39;00m\n\u001b[32m   1970\u001b[39m     \u001b[38;5;129;01mor\u001b[39;00m \u001b[38;5;28many\u001b[39m(\u001b[38;5;28mmap\u001b[39m(\u001b[38;5;28;01mlambda\u001b[39;00m x: x == \u001b[32m0\u001b[39m, \u001b[38;5;28mself\u001b[39m.shape))\n\u001b[32m   1971\u001b[39m ):\n\u001b[32m   1972\u001b[39m     \u001b[38;5;66;03m# iterative approach\u001b[39;00m\n",
      "\u001b[36mFile \u001b[39m\u001b[32m~/mambaforge/envs/big-imaging-data/lib/python3.12/site-packages/zarr/util.py:567\u001b[39m, in \u001b[36mcheck_array_shape\u001b[39m\u001b[34m(param, array, shape)\u001b[39m\n\u001b[32m    565\u001b[39m     \u001b[38;5;28;01mraise\u001b[39;00m \u001b[38;5;167;01mTypeError\u001b[39;00m(\u001b[33mf\u001b[39m\u001b[33m\"\u001b[39m\u001b[33mparameter \u001b[39m\u001b[38;5;132;01m{\u001b[39;00mparam\u001b[38;5;132;01m!r}\u001b[39;00m\u001b[33m: expected an array-like object, got \u001b[39m\u001b[38;5;132;01m{\u001b[39;00m\u001b[38;5;28mtype\u001b[39m(array)\u001b[38;5;132;01m!r}\u001b[39;00m\u001b[33m\"\u001b[39m)\n\u001b[32m    566\u001b[39m \u001b[38;5;28;01mif\u001b[39;00m array.shape != shape:\n\u001b[32m--> \u001b[39m\u001b[32m567\u001b[39m     \u001b[38;5;28;01mraise\u001b[39;00m \u001b[38;5;167;01mValueError\u001b[39;00m(\n\u001b[32m    568\u001b[39m         \u001b[33mf\u001b[39m\u001b[33m\"\u001b[39m\u001b[33mparameter \u001b[39m\u001b[38;5;132;01m{\u001b[39;00mparam\u001b[38;5;132;01m!r}\u001b[39;00m\u001b[33m: expected array with shape \u001b[39m\u001b[38;5;132;01m{\u001b[39;00mshape\u001b[38;5;132;01m!r}\u001b[39;00m\u001b[33m, got \u001b[39m\u001b[38;5;132;01m{\u001b[39;00marray.shape\u001b[38;5;132;01m!r}\u001b[39;00m\u001b[33m\"\u001b[39m\n\u001b[32m    569\u001b[39m     )\n",
      "\u001b[31mValueError\u001b[39m: parameter 'value': expected array with shape (1, 1, 1672, 349, 414), got (1672, 349, 414)"
     ]
    }
   ],
   "source": [
    "from pathlib import Path\n",
    "import tempfile\n",
    "import os\n",
    "import numpy as np\n",
    "\n",
    "temp_dir = tempfile.TemporaryDirectory()\n",
    "temp_path = Path(temp_dir.name)\n",
    "print(f\"Created temporary directory at {temp_path}\")\n",
    "print(f\"Directory contents before saving: {os.listdir(temp_path)}\")\n",
    "\n",
    "store = zarr.DirectoryStore(temp_dir.name)\n",
    "zarr_array = array_spec.to_zarr(store=store, path=\"/\")\n",
    "print(f\"Directory contents after creating array: {os.listdir(temp_path)}\")\n",
    "\n",
    "rechunked = sample_data.dask_data.rechunk(chunks=(1,1,32,32,32))\n",
    "rechunked = rechunked.squeeze()\n",
    "zarr_array[:] = rechunked.compute()\n",
    "print(f\"Directory contents after adding data: {os.listdir(temp_path)}\")\n",
    "zarr_array\n",
    "\n",
    "temp_dir.cleanup()\n",
    "\n",
    "if Path(temp_path).exists():\n",
    "    print(f\"Directory contents after cleanup: {os.listdir(temp_path)}\")\n",
    "else:\n",
    "    print(\"Directory removed during cleanup\")\n",
    "zarr_array"
   ]
  },
  {
   "cell_type": "code",
   "execution_count": 9,
   "id": "09ba13ba",
   "metadata": {},
   "outputs": [
    {
     "data": {
      "text/plain": [
       "(1, 1, 32, 32, 32)"
      ]
     },
     "execution_count": 9,
     "metadata": {},
     "output_type": "execute_result"
    }
   ],
   "source": [
    "zarr_array.chunks"
   ]
  },
  {
   "cell_type": "code",
   "execution_count": null,
   "id": "99e1bc01",
   "metadata": {},
   "outputs": [],
   "source": [
    "# import napari\n",
    "# viewer = napari.Viewer()\n",
    "# viewer.add_image(zarr_array)\n",
    "# napari.run()"
   ]
  },
  {
   "cell_type": "code",
   "execution_count": 11,
   "id": "efa196cd",
   "metadata": {},
   "outputs": [
    {
     "ename": "ValidationError",
     "evalue": "1 validation error for Image\n  Value error, The multiscale metadata has 3 axes which does not match the dimensionality of the array found in this group at level0 (5). The number of axes must match the array dimensionality. [type=value_error, input_value={'members': {'level0': Ar...on='0.4')], omero=None)}, input_type=dict]\n    For further information visit https://errors.pydantic.dev/2.11/v/value_error",
     "output_type": "error",
     "traceback": [
      "\u001b[31m---------------------------------------------------------------------------\u001b[39m",
      "\u001b[31mValidationError\u001b[39m                           Traceback (most recent call last)",
      "\u001b[36mCell\u001b[39m\u001b[36m \u001b[39m\u001b[32mIn[11]\u001b[39m\u001b[32m, line 5\u001b[39m\n\u001b[32m      2\u001b[39m \u001b[38;5;28;01mfrom\u001b[39;00m\u001b[38;5;250m \u001b[39m\u001b[34;01mome_zarr_models\u001b[39;00m\u001b[34;01m.\u001b[39;00m\u001b[34;01mv04\u001b[39;00m\u001b[34;01m.\u001b[39;00m\u001b[34;01maxes\u001b[39;00m\u001b[38;5;250m \u001b[39m\u001b[38;5;28;01mimport\u001b[39;00m Axis\n\u001b[32m      4\u001b[39m voxel_size = \u001b[32m10\u001b[39m\n\u001b[32m----> \u001b[39m\u001b[32m5\u001b[39m ome_zarr_image = \u001b[43mImage\u001b[49m\u001b[43m.\u001b[49m\u001b[43mnew\u001b[49m\u001b[43m(\u001b[49m\n\u001b[32m      6\u001b[39m \u001b[43m    \u001b[49m\u001b[43marray_specs\u001b[49m\u001b[43m \u001b[49m\u001b[43m=\u001b[49m\u001b[43m \u001b[49m\u001b[43m[\u001b[49m\u001b[43mArraySpec\u001b[49m\u001b[43m.\u001b[49m\u001b[43mfrom_array\u001b[49m\u001b[43m(\u001b[49m\u001b[43mzarr_array\u001b[49m\u001b[43m)\u001b[49m\u001b[43m]\u001b[49m\u001b[43m,\u001b[49m\n\u001b[32m      7\u001b[39m \u001b[43m    \u001b[49m\u001b[43mpaths\u001b[49m\u001b[43m \u001b[49m\u001b[43m=\u001b[49m\u001b[43m \u001b[49m\u001b[43m[\u001b[49m\u001b[33;43m\"\u001b[39;49m\u001b[33;43mlevel0\u001b[39;49m\u001b[33;43m\"\u001b[39;49m\u001b[43m]\u001b[49m\u001b[43m,\u001b[49m\n\u001b[32m      8\u001b[39m \u001b[43m    \u001b[49m\u001b[43maxes\u001b[49m\u001b[43m \u001b[49m\u001b[43m=\u001b[49m\u001b[43m \u001b[49m\u001b[43m[\u001b[49m\n\u001b[32m      9\u001b[39m \u001b[43m        \u001b[49m\u001b[43mAxis\u001b[49m\u001b[43m(\u001b[49m\u001b[43mname\u001b[49m\u001b[43m=\u001b[49m\u001b[33;43m\"\u001b[39;49m\u001b[33;43mx\u001b[39;49m\u001b[33;43m\"\u001b[39;49m\u001b[43m,\u001b[49m\u001b[43m \u001b[49m\u001b[38;5;28;43mtype\u001b[39;49m\u001b[43m=\u001b[49m\u001b[33;43m\"\u001b[39;49m\u001b[33;43mspace\u001b[39;49m\u001b[33;43m\"\u001b[39;49m\u001b[43m,\u001b[49m\u001b[43m \u001b[49m\u001b[43munit\u001b[49m\u001b[43m=\u001b[49m\u001b[33;43m\"\u001b[39;49m\u001b[33;43mum\u001b[39;49m\u001b[33;43m\"\u001b[39;49m\u001b[43m)\u001b[49m\u001b[43m,\u001b[49m\n\u001b[32m     10\u001b[39m \u001b[43m        \u001b[49m\u001b[43mAxis\u001b[49m\u001b[43m(\u001b[49m\u001b[43mname\u001b[49m\u001b[43m=\u001b[49m\u001b[33;43m\"\u001b[39;49m\u001b[33;43my\u001b[39;49m\u001b[33;43m\"\u001b[39;49m\u001b[43m,\u001b[49m\u001b[43m \u001b[49m\u001b[38;5;28;43mtype\u001b[39;49m\u001b[43m=\u001b[49m\u001b[33;43m\"\u001b[39;49m\u001b[33;43mspace\u001b[39;49m\u001b[33;43m\"\u001b[39;49m\u001b[43m,\u001b[49m\u001b[43m \u001b[49m\u001b[43munit\u001b[49m\u001b[43m=\u001b[49m\u001b[33;43m\"\u001b[39;49m\u001b[33;43mum\u001b[39;49m\u001b[33;43m\"\u001b[39;49m\u001b[43m)\u001b[49m\u001b[43m,\u001b[49m\n\u001b[32m     11\u001b[39m \u001b[43m        \u001b[49m\u001b[43mAxis\u001b[49m\u001b[43m(\u001b[49m\u001b[43mname\u001b[49m\u001b[43m=\u001b[49m\u001b[33;43m\"\u001b[39;49m\u001b[33;43mz\u001b[39;49m\u001b[33;43m\"\u001b[39;49m\u001b[43m,\u001b[49m\u001b[43m \u001b[49m\u001b[38;5;28;43mtype\u001b[39;49m\u001b[43m=\u001b[49m\u001b[33;43m\"\u001b[39;49m\u001b[33;43mspace\u001b[39;49m\u001b[33;43m\"\u001b[39;49m\u001b[43m,\u001b[49m\u001b[43m \u001b[49m\u001b[43munit\u001b[49m\u001b[43m=\u001b[49m\u001b[33;43m\"\u001b[39;49m\u001b[33;43mum\u001b[39;49m\u001b[33;43m\"\u001b[39;49m\u001b[43m)\u001b[49m\n\u001b[32m     12\u001b[39m \u001b[43m    \u001b[49m\u001b[43m]\u001b[49m\u001b[43m,\u001b[49m\n\u001b[32m     13\u001b[39m \u001b[43m    \u001b[49m\u001b[43mglobal_scale\u001b[49m\u001b[43m \u001b[49m\u001b[43m=\u001b[49m\u001b[43m \u001b[49m\u001b[43m[\u001b[49m\u001b[43mvoxel_size\u001b[49m\u001b[43m,\u001b[49m\u001b[43m \u001b[49m\u001b[43mvoxel_size\u001b[49m\u001b[43m,\u001b[49m\u001b[43m \u001b[49m\u001b[43mvoxel_size\u001b[49m\u001b[43m]\u001b[49m\u001b[43m,\u001b[49m\n\u001b[32m     14\u001b[39m \u001b[43m    \u001b[49m\u001b[43mscales\u001b[49m\u001b[43m \u001b[49m\u001b[43m=\u001b[49m\u001b[43m \u001b[49m\u001b[43m[\u001b[49m\u001b[43m[\u001b[49m\u001b[32;43m1\u001b[39;49m\u001b[43m,\u001b[49m\u001b[43m \u001b[49m\u001b[32;43m1\u001b[39;49m\u001b[43m,\u001b[49m\u001b[43m \u001b[49m\u001b[32;43m1\u001b[39;49m\u001b[43m]\u001b[49m\u001b[43m]\u001b[49m\u001b[43m,\u001b[49m\n\u001b[32m     15\u001b[39m \u001b[43m    \u001b[49m\u001b[43mtranslations\u001b[49m\u001b[43m \u001b[49m\u001b[43m=\u001b[49m\u001b[43m \u001b[49m\u001b[43m[\u001b[49m\u001b[43m[\u001b[49m\u001b[32;43m0\u001b[39;49m\u001b[43m,\u001b[49m\u001b[43m \u001b[49m\u001b[32;43m0\u001b[39;49m\u001b[43m,\u001b[49m\u001b[43m \u001b[49m\u001b[32;43m0\u001b[39;49m\u001b[43m]\u001b[49m\u001b[43m]\u001b[49m\u001b[43m,\u001b[49m\n\u001b[32m     16\u001b[39m \u001b[43m    \u001b[49m\u001b[43mname\u001b[49m\u001b[43m \u001b[49m\u001b[43m=\u001b[49m\u001b[43m \u001b[49m\u001b[33;43m\"\u001b[39;49m\u001b[33;43mbone image\u001b[39;49m\u001b[33;43m\"\u001b[39;49m\n\u001b[32m     17\u001b[39m \u001b[43m)\u001b[49m\n\u001b[32m     18\u001b[39m \u001b[38;5;28mprint\u001b[39m(ome_zarr_image)\n",
      "\u001b[36mFile \u001b[39m\u001b[32m~/mambaforge/envs/big-imaging-data/lib/python3.12/site-packages/ome_zarr_models/v04/image.py:173\u001b[39m, in \u001b[36mImage.new\u001b[39m\u001b[34m(cls, array_specs, paths, axes, scales, translations, name, multiscale_type, metadata, global_scale, global_translation)\u001b[39m\n\u001b[32m    155\u001b[39m     \u001b[38;5;28;01mraise\u001b[39;00m \u001b[38;5;167;01mValueError\u001b[39;00m(\n\u001b[32m    156\u001b[39m         \u001b[33mf\u001b[39m\u001b[33m\"\u001b[39m\u001b[33mLength of \u001b[39m\u001b[33m'\u001b[39m\u001b[33mtranslations\u001b[39m\u001b[33m'\u001b[39m\u001b[33m (\u001b[39m\u001b[38;5;132;01m{\u001b[39;00m\u001b[38;5;28mlen\u001b[39m(translations)\u001b[38;5;132;01m}\u001b[39;00m\u001b[33m) does not match \u001b[39m\u001b[33m\"\u001b[39m\n\u001b[32m    157\u001b[39m         \u001b[33mf\u001b[39m\u001b[33m\"\u001b[39m\u001b[33mlength of \u001b[39m\u001b[33m'\u001b[39m\u001b[33mpaths\u001b[39m\u001b[33m'\u001b[39m\u001b[33m (\u001b[39m\u001b[38;5;132;01m{\u001b[39;00m\u001b[38;5;28mlen\u001b[39m(paths)\u001b[38;5;132;01m}\u001b[39;00m\u001b[33m)\u001b[39m\u001b[33m\"\u001b[39m\n\u001b[32m    158\u001b[39m     )\n\u001b[32m    159\u001b[39m multimeta = Multiscale(\n\u001b[32m    160\u001b[39m     axes=\u001b[38;5;28mtuple\u001b[39m(axes),\n\u001b[32m    161\u001b[39m     datasets=\u001b[38;5;28mtuple\u001b[39m(\n\u001b[32m   (...)\u001b[39m\u001b[32m    171\u001b[39m     version=\u001b[33m\"\u001b[39m\u001b[33m0.4\u001b[39m\u001b[33m\"\u001b[39m,\n\u001b[32m    172\u001b[39m )\n\u001b[32m--> \u001b[39m\u001b[32m173\u001b[39m \u001b[38;5;28;01mreturn\u001b[39;00m \u001b[43mImage\u001b[49m\u001b[43m(\u001b[49m\n\u001b[32m    174\u001b[39m \u001b[43m    \u001b[49m\u001b[43mmembers\u001b[49m\u001b[43m=\u001b[49m\u001b[43mGroupSpec\u001b[49m\u001b[43m.\u001b[49m\u001b[43mfrom_flat\u001b[49m\u001b[43m(\u001b[49m\u001b[43mmembers_flat\u001b[49m\u001b[43m)\u001b[49m\u001b[43m.\u001b[49m\u001b[43mmembers\u001b[49m\u001b[43m,\u001b[49m\n\u001b[32m    175\u001b[39m \u001b[43m    \u001b[49m\u001b[43mattributes\u001b[49m\u001b[43m=\u001b[49m\u001b[43mImageAttrs\u001b[49m\u001b[43m(\u001b[49m\u001b[43mmultiscales\u001b[49m\u001b[43m=\u001b[49m\u001b[43m(\u001b[49m\u001b[43mmultimeta\u001b[49m\u001b[43m,\u001b[49m\u001b[43m)\u001b[49m\u001b[43m)\u001b[49m\u001b[43m,\u001b[49m\n\u001b[32m    176\u001b[39m \u001b[43m\u001b[49m\u001b[43m)\u001b[49m\n",
      "\u001b[36mFile \u001b[39m\u001b[32m~/mambaforge/envs/big-imaging-data/lib/python3.12/site-packages/pydantic/main.py:253\u001b[39m, in \u001b[36mBaseModel.__init__\u001b[39m\u001b[34m(self, **data)\u001b[39m\n\u001b[32m    251\u001b[39m \u001b[38;5;66;03m# `__tracebackhide__` tells pytest and some other tools to omit this function from tracebacks\u001b[39;00m\n\u001b[32m    252\u001b[39m __tracebackhide__ = \u001b[38;5;28;01mTrue\u001b[39;00m\n\u001b[32m--> \u001b[39m\u001b[32m253\u001b[39m validated_self = \u001b[38;5;28;43mself\u001b[39;49m\u001b[43m.\u001b[49m\u001b[43m__pydantic_validator__\u001b[49m\u001b[43m.\u001b[49m\u001b[43mvalidate_python\u001b[49m\u001b[43m(\u001b[49m\u001b[43mdata\u001b[49m\u001b[43m,\u001b[49m\u001b[43m \u001b[49m\u001b[43mself_instance\u001b[49m\u001b[43m=\u001b[49m\u001b[38;5;28;43mself\u001b[39;49m\u001b[43m)\u001b[49m\n\u001b[32m    254\u001b[39m \u001b[38;5;28;01mif\u001b[39;00m \u001b[38;5;28mself\u001b[39m \u001b[38;5;129;01mis\u001b[39;00m \u001b[38;5;129;01mnot\u001b[39;00m validated_self:\n\u001b[32m    255\u001b[39m     warnings.warn(\n\u001b[32m    256\u001b[39m         \u001b[33m'\u001b[39m\u001b[33mA custom validator is returning a value other than `self`.\u001b[39m\u001b[38;5;130;01m\\n\u001b[39;00m\u001b[33m'\u001b[39m\n\u001b[32m    257\u001b[39m         \u001b[33m\"\u001b[39m\u001b[33mReturning anything other than `self` from a top level model validator isn\u001b[39m\u001b[33m'\u001b[39m\u001b[33mt supported when validating via `__init__`.\u001b[39m\u001b[38;5;130;01m\\n\u001b[39;00m\u001b[33m\"\u001b[39m\n\u001b[32m    258\u001b[39m         \u001b[33m'\u001b[39m\u001b[33mSee the `model_validator` docs (https://docs.pydantic.dev/latest/concepts/validators/#model-validators) for more details.\u001b[39m\u001b[33m'\u001b[39m,\n\u001b[32m    259\u001b[39m         stacklevel=\u001b[32m2\u001b[39m,\n\u001b[32m    260\u001b[39m     )\n",
      "\u001b[31mValidationError\u001b[39m: 1 validation error for Image\n  Value error, The multiscale metadata has 3 axes which does not match the dimensionality of the array found in this group at level0 (5). The number of axes must match the array dimensionality. [type=value_error, input_value={'members': {'level0': Ar...on='0.4')], omero=None)}, input_type=dict]\n    For further information visit https://errors.pydantic.dev/2.11/v/value_error"
     ]
    }
   ],
   "source": [
    "from ome_zarr_models.v04 import Image\n",
    "from ome_zarr_models.v04.axes import Axis\n",
    "\n",
    "voxel_size = 10\n",
    "ome_zarr_image = Image.new(\n",
    "    array_specs = [ArraySpec.from_array(zarr_array)],\n",
    "    paths = [\"level0\"],\n",
    "    axes = [\n",
    "        Axis(name=\"x\", type=\"space\", unit=\"um\"),\n",
    "        Axis(name=\"y\", type=\"space\", unit=\"um\"),\n",
    "        Axis(name=\"z\", type=\"space\", unit=\"um\")\n",
    "    ],\n",
    "    global_scale = [voxel_size, voxel_size, voxel_size],\n",
    "    scales = [[1, 1, 1]],\n",
    "    translations = [[0, 0, 0]],\n",
    "    name = \"bone image\"\n",
    ")\n",
    "print(ome_zarr_image)"
   ]
  },
  {
   "cell_type": "markdown",
   "id": "9b6abe88",
   "metadata": {},
   "source": [
    "Eva Maxfield Brown, Dan Toloudis, Jamie Sherman, Madison Swain-Bowden, Talley Lambert, Sean Meharry, Brian Whitney, AICSImageIO Contributors (2023). BioIO: Image Reading, Metadata Conversion, and Image Writing for Microscopy Images in Pure Python [Computer software]. GitHub. https://github.com/bioio-devs/bioio"
   ]
  }
 ],
 "metadata": {
  "kernelspec": {
   "display_name": "big-imaging-data",
   "language": "python",
   "name": "python3"
  },
  "language_info": {
   "codemirror_mode": {
    "name": "ipython",
    "version": 3
   },
   "file_extension": ".py",
   "mimetype": "text/x-python",
   "name": "python",
   "nbconvert_exporter": "python",
   "pygments_lexer": "ipython3",
   "version": "3.12.11"
  }
 },
 "nbformat": 4,
 "nbformat_minor": 5
}
